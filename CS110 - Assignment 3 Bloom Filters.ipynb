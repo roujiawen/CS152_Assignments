{
 "cells": [
  {
   "cell_type": "markdown",
   "metadata": {},
   "source": [
    "# Overview"
   ]
  },
  {
   "cell_type": "markdown",
   "metadata": {},
   "source": [
    "Types of operations supported:\n",
    "\n",
    "1. Insertion: For each insertion, we simply use k independent hash functions to generate k values, and set the corresponding slots on the boolean table to be True.\n",
    "2. Look-up: We use the same set of hash functions to generate corresponding values, then see if all the slots are True. If so, we say the key exists (with small probability of false positive). If not, we say that the key certainly does not exist.\n",
    "    \n",
    "Types of operations not supported:\n",
    "\n",
    "1. Object retrieval: Since the boolean table only store informaiton regarding whether a key exists, it does not provide a method for us to retrieve the object or a pointer to the object. \n",
    "2. Deletion: In the basic implementation of Bloom filters, it's not possible to delete a key. More advanced implementations such as counting filters allow deletion but with extra space requirement.\n",
    "    \n",
    "Applications:\n",
    "\n",
    "1. Since comparing to a hash table, Bloom filters has better space efficiency but also introduces small false positive errors, they are good for large scale look-up tasks where false positive errors are not a big issue.\n",
    "2. Many modern applications of Bloom filters are in dealing with network problems. Examples include:\n",
    "    a. Cache filtering: Bloom filters can be used to determine which obects to store in web caches$^{[1]}$.\n",
    "    b. Packet routing: Bloom filters can be used to speed up packet routing protocols$^{[2]}$.\n",
    "    c. Resource routing: Bloom filters can used to improve efficiency in locating resources$^{[2]}$.\n",
    "        \n",
    "       \n",
    "------------------------------------------\n",
    "References\n",
    "\n",
    "[1] Wikipedia. (n.d.) Bloom filter. Retrieved from\n",
    "https://en.wikipedia.org/wiki/Bloom_filter#Cache_filtering\n",
    "\n",
    "[2] Broder, A., & Mitzenmacher, M. (2004). Network applications of bloom filters: A survey. Internet mathematics, 1(4), 485-509."
   ]
  },
  {
   "cell_type": "markdown",
   "metadata": {},
   "source": [
    "# Implementation"
   ]
  },
  {
   "cell_type": "code",
   "execution_count": 140,
   "metadata": {
    "collapsed": false
   },
   "outputs": [],
   "source": [
    "from math import log\n",
    "from operator import ior\n",
    "from random import randint\n",
    "\n",
    "def prime_larger_than(p):\n",
    "    \"\"\"A function that takes an integer and outputs the prime larger\n",
    "    than the value (See References).\n",
    "    \n",
    "    \"\"\"\n",
    "    if p < 3: return 3\n",
    "    if p % 2 == 0: p += 1\n",
    "    while True:\n",
    "        # Check if the number can be divided by any odd number between\n",
    "        # 3 and sqrt(p)+1\n",
    "        if all(p % n != 0 for n in xrange(3, int((p ** 0.5) + 1), 2)):\n",
    "            return p\n",
    "        # If not, try the next odd number\n",
    "        p += 2\n",
    "\n",
    "def get_uni_hash_func(table_size):\n",
    "    \"\"\"A function that randomly generates a universal integer hash\n",
    "    function (See References).\n",
    "    \"\"\"\n",
    "    prime = prime_larger_than(table_size)\n",
    "    a = randint(1, prime-1)\n",
    "    b = randint(0, prime-1)\n",
    "    def hash_func(key):\n",
    "        return (a*key+b) % prime % table_size\n",
    "    return hash_func\n",
    "    \n",
    "class BloomFilter(object):\n",
    "    \"\"\"A Bloom filter data structure.\n",
    "    \n",
    "    \n",
    "    Parameters\n",
    "    ----------\n",
    "    num_items : int\n",
    "        The expected number of items to be stored. This value will\n",
    "        be used to calculate optimal table parameters.\n",
    "        \n",
    "    false_pos : float\n",
    "        The desired false positive probability (p) given the number\n",
    "        of items (m) in a table of size (n). This is used to calc-\n",
    "        ulate appropriate table size from n when not given, using\n",
    "        the following equation (See References):\n",
    "        \n",
    "            (When the number of hash functions is chosen optimally)\n",
    "            p ≈ 0.61^(n/m)\n",
    "             \n",
    "    table_size : float, default None\n",
    "        Force table size to be the give value. When table_size is\n",
    "        not given, it's calculated basing on fasle_pos and num_items.\n",
    "    \n",
    "\n",
    "    Attributes\n",
    "    ----------\n",
    "    num_hash : int\n",
    "        The number of hash functions used. This is calculated optim-\n",
    "        ally basing on the following equation (See References):\n",
    "        \n",
    "            k = log(2*n/m)\n",
    "            \n",
    "    table : int\n",
    "        A binary vector that represents the table.\n",
    "        \n",
    "    hash_func : list of function pointers\n",
    "        Stores `num_hash` number of independent universal hash functions.\n",
    "    \n",
    "    \n",
    "    Methods\n",
    "    -------\n",
    "    add(key)\n",
    "        Adding a key into the Bloom filter.\n",
    "        \n",
    "    __contains__(key)\n",
    "        Checking whether a key exists in the Bloom filter.\n",
    "    \n",
    "    \"\"\"\n",
    "    def __init__(self, num_items=1000, false_pos=0.001, table_size=None):\n",
    "        self.num_items = num_items\n",
    "        if table_size is None:\n",
    "            self.table_size = int(round(log(false_pos, 0.61)*num_items))\n",
    "        else:\n",
    "            self.table_size = table_size\n",
    "        self.num_hash = max(1, int(round(log(2*log(false_pos, 0.6)))))\n",
    "        self.table = 0\n",
    "        self.hash_func = [get_uni_hash_func(self.table_size) \n",
    "                          for _ in xrange(self.num_hash)]\n",
    "        \n",
    "    def add(self, key):\n",
    "        # Get hash values from hash functions\n",
    "        hash_vals = [f(key) for f in self.hash_func]\n",
    "        # Apply bitwise or operation on all slots associated with hash\n",
    "        # values; add to the table\n",
    "        self.table |= reduce(ior, [1 << x for x in hash_vals])\n",
    "    \n",
    "    def __contains__(self, key):\n",
    "        # Get hash values from hash functions\n",
    "        hash_vals = [f(key) for f in self.hash_func]\n",
    "        # Checking whether all slots corresponding to hash values are\n",
    "        # set to 1\n",
    "        if all((self.table & (1 << x) != 0 for x in hash_vals)):\n",
    "            return True\n",
    "        return False\n",
    "\n",
    "    def __repr__(self):\n",
    "        return format(self.table, \"b\")[::-1]\n",
    "\n",
    "    "
   ]
  },
  {
   "cell_type": "markdown",
   "metadata": {},
   "source": [
    "-----------\n",
    "References\n",
    "\n",
    "Prime Number Generator: https://stackoverflow.com/questions/21043075/generating-large-prime-numbers-in-python\n",
    "\n",
    "Universal Hashing Function: \n",
    "https://en.wikipedia.org/wiki/Universal_hashing#Hashing_integers\n",
    "\n",
    "Bloom Filters:\n",
    "https://www.youtube.com/watch?v=bEmBh1HtYrw\n"
   ]
  },
  {
   "cell_type": "markdown",
   "metadata": {
    "collapsed": false
   },
   "source": [
    "# Hash Functions"
   ]
  },
  {
   "cell_type": "markdown",
   "metadata": {
    "collapsed": false
   },
   "source": [
    "The hash functions this implementation uses are independent hash functions in a universal integer hash function family proposed by Carter and Wegman (1979). A function in that family is defined as:\n",
    "\n",
    "$$ h_{a,b}(x) = ((ax + b)\\mod p)\\mod m$$\n",
    "\n",
    "Where $m$ is the size of the universe, $p$ is a prime no less than $m$, and $a$ is a random integer in $[1, p-1]$ and $b$ is a random integer in $[0, p-1]$.\n",
    "\n",
    "-------------\n",
    "References\n",
    "\n",
    "Carter, L., & Wegman, M. N. (1979). Universal Classes of Hash Functions. *Journal of Computer and System Sciences*. 18(2):143-154.\n"
   ]
  },
  {
   "cell_type": "markdown",
   "metadata": {
    "collapsed": true
   },
   "source": [
    "# Scaling Behavior"
   ]
  },
  {
   "cell_type": "markdown",
   "metadata": {},
   "source": [
    "## Memory Size ~ False Positive Rate\n",
    "In my implementation, table size $n$ is a function of false positive rate $p$ and number of items stored $m$, as following:\n",
    "\n",
    "$$ n = m \\cdot \\log_{0.61}(p) = O(\\lg(p)) $$\n",
    "\n",
    "(given $m$ is constant)\n",
    "\n",
    "Therefore, memory size (we mainly consider the table size, since it's the leading component) scales logarithmically with false positive rate.\n",
    "\n",
    "## Memory Size ~ Number of Items Stored\n",
    "From the equation above, we can also see that\n",
    "$$n = m \\cdot \\log_{0.61}(p) = O(m)$$\n",
    "\n",
    "(given $p$ is constant)\n",
    "\n",
    "Therefore, memory size scales linearly with number of items stored.\n",
    "\n",
    "## Access Time ~ Number of Items Stored\n",
    "In my implementation, access time scales linearly with the number of hash functions because in each \"\\__contain\\__\" function call, values from each hash function are checked to see whether it exists in the table.\n",
    "\n",
    "Number of hash functions $k$ in my implementation is set to be \n",
    "$$  k = \\log(2\\frac{n}{m}) = O(\\lg(m))$$\n",
    "\n",
    "(given $n$ is constant)\n",
    "\n",
    "Therefore, access time scales logarithmically with number of items stored.\n",
    "\n",
    "\n",
    "## Access Time ~ False Positive Rate\n",
    "Combining $k = \\log(2\\frac{n}{m})$ and $p = 0.61^{\\frac{n}{m}}$, we have\n",
    "$$ k = \\log(2\\log_{0.61}(p)) = O(\\lg(\\lg p)) $$\n",
    "\n",
    "Therefore, acess time scales double logarithmically with false positive rate.\n"
   ]
  },
  {
   "cell_type": "markdown",
   "metadata": {},
   "source": [
    "# False Positive Rate Plot"
   ]
  },
  {
   "cell_type": "code",
   "execution_count": 141,
   "metadata": {
    "collapsed": false
   },
   "outputs": [],
   "source": [
    "INT_RANGE = 10000000\n",
    "def add_integers(b, n):\n",
    "    ints = []\n",
    "    for i in xrange(n):\n",
    "        ints.append(randint(0, INT_RANGE-1))\n",
    "        b.add(ints[-1])\n",
    "    return ints\n",
    "\n",
    "N_TRIALS = 1000\n",
    "def count_false_pos(b, real_vals):\n",
    "    count = 0\n",
    "    i = 0\n",
    "    while i < N_TRIALS:\n",
    "        val = randint(0, INT_RANGE-1)\n",
    "        if val not in real_vals:\n",
    "            if val in b:\n",
    "                count += 1     \n",
    "            i += 1\n",
    "    return count      \n",
    "            \n",
    "N = 10000\n",
    "N_DOTS = 100\n",
    "num_items = 1000\n",
    "fp_rate = []\n",
    "theo_rate = []\n",
    "for table_size in xrange(1, N+1):\n",
    "    if table_size % (N/N_DOTS) == 0:\n",
    "        b = BloomFilter(num_items=num_items, table_size=table_size)\n",
    "        real_vals = add_integers(b, num_items)\n",
    "        fp_rate.append(count_false_pos(b, real_vals)/float(N_TRIALS))\n",
    "        theo_rate.append(0.61**(table_size/float(num_items)))"
   ]
  },
  {
   "cell_type": "code",
   "execution_count": 142,
   "metadata": {
    "collapsed": false
   },
   "outputs": [
    {
     "data": {
      "text/plain": [
       "<matplotlib.legend.Legend at 0x112fb6490>"
      ]
     },
     "execution_count": 142,
     "metadata": {},
     "output_type": "execute_result"
    },
    {
     "data": {
      "image/png": "[encoded data removed]",
      "text/plain": [
       "<matplotlib.figure.Figure at 0x112f32250>"
      ]
     },
     "metadata": {},
     "output_type": "display_data"
    }
   ],
   "source": [
    "%matplotlib inline\n",
    "import numpy as np\n",
    "import matplotlib.pyplot as plt\n",
    "fig, ax = plt.subplots()\n",
    "x_vals = np.linspace(0, N, N_DOTS)\n",
    "plt.plot(x_vals, fp_rate, label=\"Empirical\")\n",
    "plt.plot(x_vals, theo_rate, label= \"Theoretical\")\n",
    "plt.xlabel(\"Table Size\")\n",
    "plt.ylabel(\"False Positive Rate\")\n",
    "plt.title(\"Num of Items Stored = {}\".format(num_items))\n",
    "plt.legend()"
   ]
  }
 ],
 "metadata": {
  "kernelspec": {
   "display_name": "Python 2",
   "language": "python",
   "name": "python2"
  },
  "language_info": {
   "codemirror_mode": {
    "name": "ipython",
    "version": 2
   },
   "file_extension": ".py",
   "mimetype": "text/x-python",
   "name": "python",
   "nbconvert_exporter": "python",
   "pygments_lexer": "ipython2",
   "version": "2.7.10"
  }
 },
 "nbformat": 4,
 "nbformat_minor": 0
}
