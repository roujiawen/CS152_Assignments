{
 "cells": [
  {
   "cell_type": "code",
   "execution_count": 1,
   "metadata": {
    "collapsed": false
   },
   "outputs": [],
   "source": [
    "%matplotlib inline\n",
    "\n",
    "\"\"\"\n",
    "Questions\n",
    "    Write python code to simulate this.\n",
    "    \n",
    "    What are the error bars as a function of N? Express this using big-O \n",
    "    notation.\n",
    "    \n",
    "    Plot a graph showing how your estimate of π changed as the number of \n",
    "    samples increased (for a single simulation). Include the true value \n",
    "    and show your theoretical error bars as well.\n",
    "    \n",
    "    Suggest modifications we can make to:\n",
    "        keep the code simple.\n",
    "        keep the estimate as accurate as possible for a given number of \n",
    "        samples.\n",
    "    \n",
    "    Mathematicians have a fascination with calculating as many digits of \n",
    "    π as they can. If one were to leave theoretical justifications aside,\n",
    "    how many digits of π would one need in a practical situation. Think \n",
    "    of a practical situation where an accurate estimate of π is needed. \n",
    "    Use Fermi estimation to try and determine how digits you need, before\n",
    "    uncertainty from other sources will dominate. How long would you need\n",
    "    to run your code to achieve such accuracy?\n",
    "    \n",
    "\"\"\"\n",
    "\n",
    "import numpy as np\n",
    "import matplotlib.pyplot as plt\n",
    "\n",
    "N = 1000\n",
    "radius = 5\n",
    "width = 15\n",
    "height= 10\n",
    "num_of_throws = range(1,N+1)\n",
    "\n",
    "class Dartboard(object):\n",
    "    def __init__(self, radius, x, y):\n",
    "        self.radius = radius\n",
    "        self.x, self.y = x, y\n",
    "\n",
    "    def is_in(self, xi, yi):\n",
    "        if np.sqrt((xi-self.x)**2 + (yi-self.y)**2) < self.radius:\n",
    "            return True\n",
    "        else:\n",
    "            return False\n",
    "        \n",
    "class DartGame(object):\n",
    "    def __init__(self, radius, width, height):\n",
    "        self.radius, self.width, self.height = radius, width, height\n",
    "        self.area = width*height\n",
    "        self.dartboard = Dartboard(radius, self.width/2., self.height/2.)\n",
    "        self.hits = 0\n",
    "        self.misses = 0\n",
    "\n",
    "    def throw(self):\n",
    "        x = np.random.random()*width\n",
    "        y = np.random.random()*height\n",
    "        if self.dartboard.is_in(x,y):\n",
    "            self.hits +=1\n",
    "        else:\n",
    "            self.misses +=1\n"
   ]
  },
  {
   "cell_type": "markdown",
   "metadata": {},
   "source": [
    "# What are the error bars as a function of N? Express this using big-O notation."
   ]
  },
  {
   "cell_type": "markdown",
   "metadata": {},
   "source": [
    "\n",
    "Probability of a hitting the circular board when throwing a dart is given by\n",
    "\n",
    "$$ p = \\frac{\\pi r^2}{A}$$\n",
    "where $A$ is the total rectangular area and $r$ is the radius of the dartboard.\n",
    "\n",
    "Using the formula for binomial standard deviation, we can calculate the standard deviation for number of hits given n throws:\n",
    "\n",
    "$$ \\sigma_h = \\sqrt{n p(1-p)} = \\sqrt{n \\cdot \\frac{\\pi r^2}{A} \\cdot \\frac{A -\\pi r^2}{A}} = \\frac{r}{A} \\sqrt{n \\pi (A-\\pi r^2)} $$\n",
    "\n",
    "However, we actually want to know $\\sigma_\\pi$, the standard deviation of the estimated $\\pi$. Number of hits and estimated $\\pi$ are related by the following equation:\n",
    "\n",
    "$$ \\hat{\\pi} = \\frac{n_{hit} A}{nr^2}$$\n",
    "\n",
    "We can set constant $C_1$ to be $\\frac{A}{nr^2}$, then we have\n",
    "$$ \\hat{\\pi} = C_1 n_{hit}$$\n",
    "\n",
    "Using the formula for standard deviation, we have\n",
    "$$\\sigma_\\pi = \\sqrt{E[(\\hat{\\pi}-\\bar{\\hat{\\pi}})^2]} = \\sqrt{E[(C_1 n_{hit}-\\bar{C_1 n_{hit}})^2]} = \\sqrt{E[C_1^2 (n_{hit}-\\bar{n_{hit}})^2]} = C_1 \\sqrt{E[(n_{hit}-\\bar{n_{hit}})^2]}$$\n",
    "\n",
    "We see that the expression $\\sqrt{E[(n_{hit}-\\bar{n_{hit}})^2]}$ is exactly $\\sigma_h$, the standard deviation of number of hits. Therefore\n",
    "\n",
    "$$\\sigma_\\pi = C_1 \\sigma_h = \\frac{A}{nr^2} \\cdot \\frac{r}{A} \\sqrt{n \\pi (A-\\pi r^2)} = n^{- \\frac{1}{2}} \\cdot \\frac{\\sqrt{\\pi (A-\\pi r^2)}}{r}$$\n",
    "\n",
    "Let $C_2$ be $\\frac{\\sqrt{\\pi (A-\\pi r^2)}}{r}$, we have\n",
    "$$ \\sigma_\\pi = C_2 n^{- \\frac{1}{2}} = O(n^{- \\frac{1}{2}})$$\n"
   ]
  },
  {
   "cell_type": "markdown",
   "metadata": {},
   "source": [
    "-----------\n",
    "\n",
    "Below is a plot showing the theoretical standard error of $\\pi$ estimates as $n$ scales."
   ]
  },
  {
   "cell_type": "code",
   "execution_count": 2,
   "metadata": {
    "collapsed": false
   },
   "outputs": [
    {
     "data": {
      "image/png": "[encoded data removed]",
      "text/plain": [
       "<matplotlib.figure.Figure at 0x10e13c350>"
      ]
     },
     "metadata": {},
     "output_type": "display_data"
    }
   ],
   "source": [
    "area = width*height\n",
    "prob = np.pi*(radius**2)/(width*height)\n",
    "theo_err =[]\n",
    "for i in num_of_throws:\n",
    "    # First calculate standard error of num of hits\n",
    "    se_n_hits = np.sqrt(i * prob  * (1-prob)) \n",
    "    # Standard error of estimated pi is porportional to that\n",
    "    se_este_pi = se_n_hits * area/(i*radius**2)\n",
    "    theo_err.append(se_este_pi)\n",
    "    \n",
    "plt.plot(num_of_throws, theo_err)\n",
    "plt.xlabel(\"Number of Throws\")\n",
    "plt.ylabel(\"Standard Error of Estimated pi\")\n",
    "plt.show()"
   ]
  },
  {
   "cell_type": "markdown",
   "metadata": {},
   "source": [
    "# Plot a graph showing how your estimate of π changed as the number of samples increased (for a single simulation). Include the true value and show your theoretical error bars as well."
   ]
  },
  {
   "cell_type": "code",
   "execution_count": 3,
   "metadata": {
    "collapsed": false
   },
   "outputs": [],
   "source": [
    "#%%timeit\n",
    "# Version 1\n",
    "# Run simulation\n",
    "dart_sim = DartGame(radius, width, height)\n",
    "pi_estimates = []\n",
    "\n",
    "for throws_so_far in num_of_throws:\n",
    "    dart_sim.throw()\n",
    "    est_circ_area = dart_sim.area / float(throws_so_far) * dart_sim.hits\n",
    "    est_pi = est_circ_area/float(radius**2)\n",
    "    pi_estimates.append(est_pi)"
   ]
  },
  {
   "cell_type": "code",
   "execution_count": 4,
   "metadata": {
    "collapsed": false
   },
   "outputs": [
    {
     "data": {
      "image/png": "[encoded data removed]",
      "text/plain": [
       "<matplotlib.figure.Figure at 0x10fa32050>"
      ]
     },
     "metadata": {},
     "output_type": "display_data"
    }
   ],
   "source": [
    "# Plot\n",
    "true_pi = np.array([np.pi]*N)\n",
    "theo_err = np.array(theo_err)\n",
    "upper_bars = true_pi + theo_err\n",
    "lower_bars = true_pi - theo_err\n",
    "\n",
    "plt.plot(num_of_throws, pi_estimates, label=\"estimated pi\")\n",
    "plt.plot(num_of_throws, true_pi, \"red\", alpha=0.5, label=\"true pi\")\n",
    "plt.plot(num_of_throws, upper_bars, \"grey\", ls=\"--\", alpha=0.5, \n",
    "         label=\"error bars\")\n",
    "plt.plot(num_of_throws, lower_bars, \"grey\", ls=\"--\", alpha=0.5)\n",
    "plt.xlabel(\"Number of Throws\")\n",
    "plt.ylabel(\"Value\")\n",
    "plt.legend()\n",
    "plt.show()"
   ]
  },
  {
   "cell_type": "markdown",
   "metadata": {},
   "source": [
    "# Suggest modifications we can make to:"
   ]
  },
  {
   "cell_type": "markdown",
   "metadata": {},
   "source": [
    "## Keep the code simple"
   ]
  },
  {
   "cell_type": "markdown",
   "metadata": {},
   "source": [
    "To make the code simple (I assume this means short and fast), we could use matrix operation on numpy arrays, rather than for-loops + python list + object-oriented design. This would however sacrifice the readability and connection with human intuition.\n",
    "\n",
    "The code below is the more efficient implementation (let's call it Version 2, and the previous implementation Version 1):"
   ]
  },
  {
   "cell_type": "code",
   "execution_count": 5,
   "metadata": {
    "collapsed": false
   },
   "outputs": [],
   "source": [
    "#%%timeit\n",
    "# Version 2\n",
    "\n",
    "# Coordinates of center of dartboard\n",
    "xc = width/2.\n",
    "yc = height/2.\n",
    "rect_area = width*height\n",
    "\n",
    "# Array indicating coordinates from each throw.\n",
    "X = np.random.random(N)*width\n",
    "Y = np.random.random(N)*height\n",
    "\n",
    "# Using in-place operations for memory efficiency\n",
    "X -= xc; X **= 2    \n",
    "Y -= yc; Y **= 2    \n",
    "X += Y ; X **= 0.5  # result is equivalent to sqrt((X-xc)^2 + (Y-yc)^2)\n",
    "\n",
    "# Indicator array associated with event of hitting the dartboard\n",
    "I = (X<radius).astype(int) # 1 if hit; 0 if miss\n",
    "\n",
    "N_hits = np.cumsum(I) # array for number of hits\n",
    "N_throws = np.arange(1, N+1).astype(float) # array for number of throws\n",
    "E_area = rect_area / N_throws * N_hits # estimated area of circle\n",
    "r_square = radius**2\n",
    "E_pi = E_area/r_square # estimated pi\n"
   ]
  },
  {
   "cell_type": "markdown",
   "metadata": {},
   "source": [
    "Using %%timeit magic command to measure cell run time, we see that for N=1000, the second version is about two orders of magnitude faster than the first version.\n",
    "\n",
    "    Version 1: 100 loops, best of 3: 4.85 ms per loop\n",
    "    \n",
    "    Version 2: 1000 loops, best of 3: 486 µs per loop\n",
    "\n",
    "\n",
    "For curiosity, I also tested when N=100000:\n",
    "\n",
    "    Version 1: 1 loop, best of 3: 457 ms per loop\n",
    "    \n",
    "    Version 2: 100 loops, best of 3: 4.6 ms per loop\n",
    "    \n",
    "\n",
    "The second test is actually not necessary because we know that implementation only affects the constant in time complexity, therefore would not change the scaling behavior. But anyhow, it verifies the theoretical complexity $O(N)$ of the simulation algorithm.\n"
   ]
  },
  {
   "cell_type": "markdown",
   "metadata": {},
   "source": [
    "## Keep the estimate as accurate as possible for a given number of samples \n"
   ]
  },
  {
   "cell_type": "markdown",
   "metadata": {},
   "source": [
    "To keep estimate as accurate as possible for a given number of samples, I would suggest bootstrapping subsamples from the sample and using that to generate many estimates of pi, and then take the average."
   ]
  },
  {
   "cell_type": "markdown",
   "metadata": {},
   "source": [
    "# How many digits of π would one need in a practical situation"
   ]
  },
  {
   "cell_type": "markdown",
   "metadata": {},
   "source": [
    "\n",
    "Let's say I want to synthesize a piece of jewelry that is a perfect sphere (radius=1cm) made of diamond. I want to know what its volume would be and it has to be precise to the atomic level. \n",
    "\n",
    "Distance between carbon atoms in diamond is 0.142 nm (Warren-Gregory, 2001). So we only need a calculation that's precise to roughly $(0.1nm)^3$ = $10^{-10} cm^3$.\n",
    "\n",
    "Since sphere volume is $V = 4/3 \\pi r^3 = 4/3 \\pi \\cdot 1 cm^3$, we can estimate that we need 10 digits of $\\pi$.\n",
    "\n",
    "We already calculated that $\\sigma = O(n^{\\frac{1}{2}})$, therefore for error bar to be smaller than $10^{-10}$, n has to be more than $10^{20}$.\n",
    "\n",
    "Performance results above showed that it takes 4.6ms for Version 2 to run when $n=10^5$, therefore it will take $10^{15} \\cdot 4.6$ ms = $145865$ years to run when $n=10^{20}$.\n",
    "\n",
    "---------\n",
    "References\n",
    "\n",
    "Warren-Gregory, A. (2001). Distance Between Carbon Atoms. *The Physics Factbook*. Retrieved from https://hypertextbook.com/facts/2001/AliceWarrenGregory.shtml."
   ]
  },
  {
   "cell_type": "code",
   "execution_count": null,
   "metadata": {
    "collapsed": true
   },
   "outputs": [],
   "source": []
  }
 ],
 "metadata": {
  "kernelspec": {
   "display_name": "Python 2",
   "language": "python",
   "name": "python2"
  },
  "language_info": {
   "codemirror_mode": {
    "name": "ipython",
    "version": 2
   },
   "file_extension": ".py",
   "mimetype": "text/x-python",
   "name": "python",
   "nbconvert_exporter": "python",
   "pygments_lexer": "ipython2",
   "version": "2.7.10"
  }
 },
 "nbformat": 4,
 "nbformat_minor": 0
}
